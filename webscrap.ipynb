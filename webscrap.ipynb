{
 "cells": [
  {
   "cell_type": "code",
   "execution_count": 1,
   "metadata": {},
   "outputs": [],
   "source": [
    "import requests\n",
    "from bs4 import BeautifulSoup\n",
    "import pandas as pd"
   ]
  },
  {
   "cell_type": "code",
   "execution_count": 60,
   "metadata": {},
   "outputs": [
    {
     "name": "stdout",
     "output_type": "stream",
     "text": [
      "enter website name: google\n",
      "enter search item: ml\n",
      "https://maps.google.com/maps?q\n",
      "https://hackernoon.com/machine-learning-applications-393f493f871a&sa\n",
      "https://en.wikipedia.org/wiki/Machine_learning&sa\n",
      "https://www.geeksforgeeks.org/ml-machine-learning/&sa\n",
      "https://www.youtube.com/watch%3Fv%3D3EoRJR9kxAw&sa\n",
      "https://www.youtube.com/watch%3Fv%3D3EoRJR9kxAw&sa\n",
      "https://techdipper.com/2020/03/08/drug-detection-using-ai-and-ml-on-the-dark-web-explained/&sa\n",
      "https://cloudwars.co/google-tops-amazon-mlb-defects-better-ml-analytics/&sa\n",
      "https://yourstory.com/2020/02/bengaluru-data-science-startup-synctactic-ai-ml&sa\n",
      "https://www.technative.io/why-use-python-for-ai-and-machine-learning/&sa\n",
      "https://www.infoq.com/news/2020/02/github-ml-issue-recommendations/&sa\n",
      "https://venturebeat.com/2020/02/20/snapchat-adds-lava-and-water-ar-lenses-using-ground-segmentation-and-ml/&sa\n",
      "https://www.youtube.com/watch%3Fv%3DKNAWp2S3w94&sa\n",
      "https://www.youtube.com/watch%3Fv%3DKNAWp2S3w94&sa\n",
      "https://dotnet.microsoft.com/apps/machinelearning-ai/ml-dotnet&sa\n",
      "https://developers.google.com/machine-learning/crash-course/ml-intro&sa\n",
      "https://www.facebook.com/hashtag/ml&sa\n",
      "https://support.google.com/webmasters/answer/7489871%3Fhl%3Den&sa\n",
      "https://www.coursera.org/learn/machine-learning&sa\n",
      "https://en.wikipedia.org/wiki/ML&sa\n",
      "https://en.wikipedia.org/wiki/Machine_learning&sa\n",
      "https://accounts.google.com/ServiceLogin%3Fcontinue%3Dhttps://www.google.com/search%253Fq%253Dml%26hl%3Den&sa\n",
      "https://www.google.com/preferences?hl\n"
     ]
    }
   ],
   "source": [
    "items=[]\n",
    "links=[]\n",
    "web = input(\"enter website name: \")\n",
    "parameter = input(\"enter search item: \")\n",
    "if web == \"yahoo\":\n",
    "    req = requests.get(\"https://search.\"+web+\".com/search?p=\"+ parameter)\n",
    "else:\n",
    "    req = requests.get(\"https://www.\"+ web +\".com/search?q=\"+ parameter)\n",
    "\n",
    "\n",
    "bs = BeautifulSoup(req.text, \"html5lib\")\n",
    "                \n",
    "item_link = bs.findAll(\"a\")\n",
    "print\n",
    "for item4 in item_link:\n",
    "    if item4 != None:\n",
    "        unrefined_link = item4.get('href')\n",
    "        if unrefined_link != None:\n",
    "            prerefined_link = unrefined_link.split(\"=\")\n",
    "            refined = prerefined_link[0:2]\n",
    "            for obj in refined:\n",
    "                items.append(obj)\n",
    "\n",
    "for item in items:\n",
    "    if \"https://\" in item:\n",
    "        if \"login\" not in item and \"mail\" not in item and \"shopping\" not in item and \"images\" not in item:\n",
    "            links.append(item)\n",
    "for link in links:\n",
    "    print(link)"
   ]
  },
  {
   "cell_type": "code",
   "execution_count": null,
   "metadata": {},
   "outputs": [],
   "source": []
  }
 ],
 "metadata": {
  "kernelspec": {
   "display_name": "Python 3",
   "language": "python",
   "name": "python3"
  },
  "language_info": {
   "codemirror_mode": {
    "name": "ipython",
    "version": 3
   },
   "file_extension": ".py",
   "mimetype": "text/x-python",
   "name": "python",
   "nbconvert_exporter": "python",
   "pygments_lexer": "ipython3",
   "version": "3.7.4"
  }
 },
 "nbformat": 4,
 "nbformat_minor": 2
}
