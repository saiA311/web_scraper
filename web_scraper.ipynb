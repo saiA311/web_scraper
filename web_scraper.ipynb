{
 "cells": [
  {
   "cell_type": "code",
   "execution_count": 41,
   "metadata": {},
   "outputs": [],
   "source": [
    "import requests\n",
    "from bs4 import BeautifulSoup\n",
    "import pandas as pd\n",
    "from IPython.display import HTML\n"
   ]
  },
  {
   "cell_type": "code",
   "execution_count": 42,
   "metadata": {},
   "outputs": [
    {
     "name": "stdout",
     "output_type": "stream",
     "text": [
      "enter search item: ml\n",
      "https://hackernoon.com/machine-learning-applications-393f493f871a\n",
      "                                                  \n",
      "https://en.wikipedia.org/wiki/Machine_learning\n",
      "                                                  \n",
      "https://www.geeksforgeeks.org/ml-machine-learning/\n",
      "                                                  \n",
      "https://dotnet.microsoft.com/apps/machinelearning-ai/ml-dotnet\n",
      "                                                  \n",
      "https://developers.google.com/machine-learning/crash-course/ml-intro\n",
      "                                                  \n",
      "https://venturebeat.com/2020/03/08/3-important-trends-in-ai-ml-you-might-be-missing/\n",
      "                                                  \n",
      "https://www.facebook.com/hashtag/ml\n",
      "                                                  \n",
      "https://support.google.com/webmasters/answer/7489871%3Fhl%3Den\n",
      "                                                  \n",
      "https://towardsdatascience.com/the-most-useful-ml-tools-2020-e41b54061c58\n",
      "                                                  \n",
      "https://www.coursera.org/learn/machine-learning\n",
      "                                                  \n",
      "https://www.tensorflow.org/\n",
      "                                                  \n"
     ]
    }
   ],
   "source": [
    "links=[]\n",
    "parameter= input(\"enter search item: \")\n",
    "\n",
    "req = requests.get(\"https://www.google.com/search?q=\"+ parameter)\n",
    "\n",
    "\n",
    "bs = BeautifulSoup(req.text, \"lxml\")\n",
    "res1= bs.findAll(class_=\"kCrYT\")\n",
    "\n",
    "for item3 in res1:\n",
    "                \n",
    "    item_link = item3.findAll(\"a\")\n",
    "\n",
    "    if item_link != []:\n",
    "        for item4 in item_link:\n",
    "            if item4 != None:\n",
    "                unrefined_link = item4.get('href')\n",
    "                prerefined_link = unrefined_link.split(\"=\")\n",
    "                refined = prerefined_link[1].split(\"&\")\n",
    "                refined_link = refined[0]\n",
    "                #print(refined_link)\n",
    "                if \"youtube\" not in refined_link:\n",
    "                    print(refined_link)\n",
    "                    print(\" \"*50)\n",
    "                    links.append(refined_link)"
   ]
  },
  {
   "cell_type": "code",
   "execution_count": 60,
   "metadata": {},
   "outputs": [],
   "source": [
    "link_data= {\"links\":links}\n",
    "data = pd.DataFrame(link_data)\n"
   ]
  },
  {
   "cell_type": "code",
   "execution_count": 61,
   "metadata": {},
   "outputs": [],
   "source": [
    "df=data.copy()"
   ]
  },
  {
   "cell_type": "code",
   "execution_count": 62,
   "metadata": {},
   "outputs": [
    {
     "data": {
      "text/html": [
       "<div>\n",
       "<style scoped>\n",
       "    .dataframe tbody tr th:only-of-type {\n",
       "        vertical-align: middle;\n",
       "    }\n",
       "\n",
       "    .dataframe tbody tr th {\n",
       "        vertical-align: top;\n",
       "    }\n",
       "\n",
       "    .dataframe thead th {\n",
       "        text-align: right;\n",
       "    }\n",
       "</style>\n",
       "<table border=\"1\" class=\"dataframe\">\n",
       "  <thead>\n",
       "    <tr style=\"text-align: right;\">\n",
       "      <th></th>\n",
       "      <th>links</th>\n",
       "    </tr>\n",
       "  </thead>\n",
       "  <tbody>\n",
       "    <tr>\n",
       "      <td>0</td>\n",
       "      <td>https://hackernoon.com/machine-learning-applic...</td>\n",
       "    </tr>\n",
       "    <tr>\n",
       "      <td>1</td>\n",
       "      <td>https://en.wikipedia.org/wiki/Machine_learning</td>\n",
       "    </tr>\n",
       "    <tr>\n",
       "      <td>2</td>\n",
       "      <td>https://www.geeksforgeeks.org/ml-machine-learn...</td>\n",
       "    </tr>\n",
       "    <tr>\n",
       "      <td>3</td>\n",
       "      <td>https://dotnet.microsoft.com/apps/machinelearn...</td>\n",
       "    </tr>\n",
       "    <tr>\n",
       "      <td>4</td>\n",
       "      <td>https://developers.google.com/machine-learning...</td>\n",
       "    </tr>\n",
       "  </tbody>\n",
       "</table>\n",
       "</div>"
      ],
      "text/plain": [
       "                                               links\n",
       "0  https://hackernoon.com/machine-learning-applic...\n",
       "1     https://en.wikipedia.org/wiki/Machine_learning\n",
       "2  https://www.geeksforgeeks.org/ml-machine-learn...\n",
       "3  https://dotnet.microsoft.com/apps/machinelearn...\n",
       "4  https://developers.google.com/machine-learning..."
      ]
     },
     "execution_count": 62,
     "metadata": {},
     "output_type": "execute_result"
    }
   ],
   "source": [
    "df.head()"
   ]
  },
  {
   "cell_type": "code",
   "execution_count": 63,
   "metadata": {},
   "outputs": [
    {
     "data": {
      "text/plain": [
       "0     https://hackernoon.com/machine-learning-applic...\n",
       "1        https://en.wikipedia.org/wiki/Machine_learning\n",
       "2     https://www.geeksforgeeks.org/ml-machine-learn...\n",
       "3     https://dotnet.microsoft.com/apps/machinelearn...\n",
       "4     https://developers.google.com/machine-learning...\n",
       "5     https://venturebeat.com/2020/03/08/3-important...\n",
       "6                   https://www.facebook.com/hashtag/ml\n",
       "7     https://support.google.com/webmasters/answer/7...\n",
       "8     https://towardsdatascience.com/the-most-useful...\n",
       "9       https://www.coursera.org/learn/machine-learning\n",
       "10                          https://www.tensorflow.org/\n",
       "Name: links, dtype: object"
      ]
     },
     "execution_count": 63,
     "metadata": {},
     "output_type": "execute_result"
    }
   ],
   "source": [
    "data['links']"
   ]
  },
  {
   "cell_type": "code",
   "execution_count": 64,
   "metadata": {},
   "outputs": [
    {
     "data": {
      "text/plain": [
       "'https://hackernoon.com/machine-learning-applications-393f493f871a'"
      ]
     },
     "execution_count": 64,
     "metadata": {},
     "output_type": "execute_result"
    }
   ],
   "source": [
    "data['links'][0]"
   ]
  },
  {
   "cell_type": "code",
   "execution_count": 65,
   "metadata": {},
   "outputs": [
    {
     "data": {
      "text/html": [
       "<table border=\"1\" class=\"dataframe\">\n",
       "  <thead>\n",
       "    <tr style=\"text-align: right;\">\n",
       "      <th></th>\n",
       "      <th>links</th>\n",
       "    </tr>\n",
       "  </thead>\n",
       "  <tbody>\n",
       "    <tr>\n",
       "      <th>0</th>\n",
       "      <td><a href=\"https://hackernoon.com/machine-learning-applications-393f493f871a\" target=\"blank\">\"https://hackernoon.com/machine-learning-applications-393f493f871a\"</a></td>\n",
       "    </tr>\n",
       "    <tr>\n",
       "      <th>1</th>\n",
       "      <td><a href=\"https://en.wikipedia.org/wiki/Machine_learning\" target=\"blank\">\"https://en.wikipedia.org/wiki/Machine_learning\"</a></td>\n",
       "    </tr>\n",
       "    <tr>\n",
       "      <th>2</th>\n",
       "      <td><a href=\"https://www.geeksforgeeks.org/ml-machine-learning/\" target=\"blank\">\"https://www.geeksforgeeks.org/ml-machine-learning/\"</a></td>\n",
       "    </tr>\n",
       "    <tr>\n",
       "      <th>3</th>\n",
       "      <td><a href=\"https://dotnet.microsoft.com/apps/machinelearning-ai/ml-dotnet\" target=\"blank\">\"https://dotnet.microsoft.com/apps/machinelearning-ai/ml-dotnet\"</a></td>\n",
       "    </tr>\n",
       "    <tr>\n",
       "      <th>4</th>\n",
       "      <td><a href=\"https://developers.google.com/machine-learning/crash-course/ml-intro\" target=\"blank\">\"https://developers.google.com/machine-learning/crash-course/ml-intro\"</a></td>\n",
       "    </tr>\n",
       "    <tr>\n",
       "      <th>5</th>\n",
       "      <td><a href=\"https://venturebeat.com/2020/03/08/3-important-trends-in-ai-ml-you-might-be-missing/\" target=\"blank\">\"https://venturebeat.com/2020/03/08/3-important-trends-in-ai-ml-you-might-be-missing/\"</a></td>\n",
       "    </tr>\n",
       "    <tr>\n",
       "      <th>6</th>\n",
       "      <td><a href=\"https://www.facebook.com/hashtag/ml\" target=\"blank\">\"https://www.facebook.com/hashtag/ml\"</a></td>\n",
       "    </tr>\n",
       "    <tr>\n",
       "      <th>7</th>\n",
       "      <td><a href=\"https://support.google.com/webmasters/answer/7489871%3Fhl%3Den\" target=\"blank\">\"https://support.google.com/webmasters/answer/7489871%3Fhl%3Den\"</a></td>\n",
       "    </tr>\n",
       "    <tr>\n",
       "      <th>8</th>\n",
       "      <td><a href=\"https://towardsdatascience.com/the-most-useful-ml-tools-2020-e41b54061c58\" target=\"blank\">\"https://towardsdatascience.com/the-most-useful-ml-tools-2020-e41b54061c58\"</a></td>\n",
       "    </tr>\n",
       "    <tr>\n",
       "      <th>9</th>\n",
       "      <td><a href=\"https://www.coursera.org/learn/machine-learning\" target=\"blank\">\"https://www.coursera.org/learn/machine-learning\"</a></td>\n",
       "    </tr>\n",
       "    <tr>\n",
       "      <th>10</th>\n",
       "      <td><a href=\"https://www.tensorflow.org/\" target=\"blank\">\"https://www.tensorflow.org/\"</a></td>\n",
       "    </tr>\n",
       "  </tbody>\n",
       "</table>"
      ],
      "text/plain": [
       "<IPython.core.display.HTML object>"
      ]
     },
     "execution_count": 65,
     "metadata": {},
     "output_type": "execute_result"
    }
   ],
   "source": [
    "data['links'] = data['links'].apply(lambda x:' <a href=\"{0}\" target=\"blank\">\"{0}\"</a>'.format(x))\n",
    "HTML(data.to_html( render_links=True, escape=False))"
   ]
  },
  {
   "cell_type": "code",
   "execution_count": 40,
   "metadata": {},
   "outputs": [],
   "source": [
    "#data[\"links\"] = data[\"links\"].apply(lambda x: '<a href=\"https//{0}\">\"https//{0}\"</a>'.format(re.findall(\"pattern\", x)[0]))\n",
    "#data.to_html(render_links=True, escape=False)"
   ]
  },
  {
   "cell_type": "code",
   "execution_count": null,
   "metadata": {},
   "outputs": [],
   "source": []
  }
 ],
 "metadata": {
  "kernelspec": {
   "display_name": "Python 3",
   "language": "python",
   "name": "python3"
  },
  "language_info": {
   "codemirror_mode": {
    "name": "ipython",
    "version": 3
   },
   "file_extension": ".py",
   "mimetype": "text/x-python",
   "name": "python",
   "nbconvert_exporter": "python",
   "pygments_lexer": "ipython3",
   "version": "3.7.4"
  }
 },
 "nbformat": 4,
 "nbformat_minor": 2
}
